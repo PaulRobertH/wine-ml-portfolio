{
  "nbformat": 4,
  "nbformat_minor": 0,
  "metadata": {
    "colab": {
      "provenance": [],
      "authorship_tag": "ABX9TyOXGSf/TW0BE+qBtzP7LefG",
      "include_colab_link": true
    },
    "kernelspec": {
      "name": "python3",
      "display_name": "Python 3"
    },
    "language_info": {
      "name": "python"
    }
  },
  "cells": [
    {
      "cell_type": "markdown",
      "metadata": {
        "id": "view-in-github",
        "colab_type": "text"
      },
      "source": [
        "<a href=\"https://colab.research.google.com/github/PaulRobertH/wine-ml-portfolio/blob/main/7_ML_FutureReturns_Forecast_Conclusion.ipynb\" target=\"_parent\"><img src=\"https://colab.research.google.com/assets/colab-badge.svg\" alt=\"Open In Colab\"/></a>"
      ]
    },
    {
      "cell_type": "markdown",
      "source": [
        "# 📈 Liv-ex 100 Forecasting Project — Machine Learning, Cycles & Predictive Strategy\n",
        "\n",
        "**\"Fine wine markets cycle — they don't crash.\"**  \n",
        "This project forecasts the Liv-ex 100 fine wine index using a multi-step ML pipeline, historical drawdown analysis, cycle phase tagging, and predictive modeling.\n",
        "\n",
        "---\n",
        "\n",
        "## 🔧 Objective\n",
        "\n",
        "To train and compare ML models and simulate future returns, identifying:\n",
        "- Probable **market bottoms**\n",
        "- **Cycle length** of accumulation and expansion\n",
        "- Strategic timing for **entry and exit**\n",
        "\n",
        "---\n",
        "\n",
        "## 🧠 Machine Learning Models Compared\n",
        "\n",
        "| Model             | 12M RMSE | 24M RMSE | 60M RMSE | Latest Forecast |\n",
        "|------------------|----------|----------|----------|-----------------|\n",
        "| Gaussian Process | 0.052    | 0.18     | 0.26     | **1.69%** ✅ |\n",
        "| Random Forest     | 0.062    | 0.22     | 0.20     | 3.29% |\n",
        "| Gradient Boosting | 0.061    | 0.21     | 0.27     | 3.34% |\n",
        "| XGBoost           | 0.085    | 0.22     | 0.28     | 3.55% |\n",
        "| Ridge             | 0.145    | 0.12     | 0.26     | 5.23% |\n",
        "| ElasticNet        | 0.087    | 0.19     | 0.37     | 6.32% |\n",
        "\n",
        "✅ Best model for 12M: **Gaussian Process**  \n",
        "📈 Historical CAGR: **~5.49%**\n",
        "\n",
        "---\n",
        "\n",
        "## 📊 Forecast Visuals\n",
        "\n",
        "### 🔵 1. Actual vs Predicted (12M Return Accuracy)\n",
        "![Actual vs Predicted](https://drive.google.com/uc?id=WVWnoKCCV7zvzTvpmVXg8q)\n",
        "\n",
        "- Validates ML predictions using historical data  \n",
        "- High alignment for Gaussian Process & Gradient Boosting\n",
        "\n",
        "---\n",
        "\n",
        "### 🟣 2. ML Forecast Cone (Peaks, Troughs, Fib Support)\n",
        "![ML Cone](https://drive.google.com/uc?id=3eae8948-bbb4-4613-967e-1e6f3165ea06)\n",
        "\n",
        "- Forecasted drawdown reaches Fib 61.8% at ~352  \n",
        "- Projected bottoming in late 2025  \n",
        "- Momentum flip signalled with turning cycles\n",
        "\n",
        "---\n",
        "\n",
        "### ⚫ 3. Full ML & Monte Carlo Projection (to 2050)\n",
        "![Forecast Full](https://drive.google.com/uc?id=5371fcca-8471-4b61-bafa-8e3ed3b51f44)\n",
        "\n",
        "- Ensemble mean: growth resumes post-2026  \n",
        "- Bull run: 2026–2031  \n",
        "- Probabilistic spread (10%–90%) visualised in grey bands\n",
        "\n",
        "---\n",
        "\n",
        "## 🧮 Summary of Findings\n",
        "\n",
        "- **Bear phase duration (avg)**: ~17 months  \n",
        "- **Bottom expected**: Q4 2025  \n",
        "- **Momentum**: Turning positive (3M: –0.01 → 12M: +0.14)  \n",
        "- **Drawdown from ATH**: –17.58% (as of May 2024)  \n",
        "- **Support zone**: Fib 61.8% from 2015 low ≈ **352.67**\n",
        "\n",
        "---\n",
        "\n",
        "## 🚦 Strategic Forecast Path\n",
        "\n",
        "| Phase                | Period        | Notes                                |\n",
        "|---------------------|---------------|--------------------------------------|\n",
        "| Accumulation Bottom | 2024–2025     | Likely cycle low, with positive setup |\n",
        "| Bull Market         | 2026–2031     | Modeled growth resumes               |\n",
        "| Correction Window   | 2032–2034     | Modeled stagnation or reversion      |\n",
        "| Long-run CAGR Path  | 2035–2050     | Growth resumes ~5%                   |\n",
        "\n",
        "---\n",
        "\n",
        "## ✅ Final Thoughts\n",
        "\n",
        "This ML pipeline demonstrated:\n",
        "- Robust ML fit with Gaussian Process and Gradient Boosting\n",
        "- Alignment of model outputs with **market structure and cycles**\n",
        "- Accurate identification of bottoming zone and buy timing\n",
        "\n",
        "**This model will serve as a forecasting backbone for future strategic decisions, cellar plan allocations, and cycle-aware wine fund deployments.**\n",
        "\n",
        "---\n",
        "\n",
        "## 📎 Colab Image Display Snippet\n",
        "\n",
        "For Jupyter/Colab:\n",
        "\n",
        "```python\n",
        "from IPython.display import display, Image\n",
        "\n",
        "display(Image(\"/content/drive/MyDrive/ML-Portfolio/Images/Actual_vs_Predicted_12M_Forward_Returns.png\"))\n",
        "display(Image(\"/content/drive/MyDrive/ML-Portfolio/Images/Backtest_Scenario_CPI_20250704_231255.png\"))\n",
        "display(Image(\"/content/drive/MyDrive/ML-Portfolio/Images/Backtest_Scenario_CPI_20250704_231321.png\"))\n"
      ],
      "metadata": {
        "id": "rKn1bpprusAN"
      }
    },
    {
      "cell_type": "markdown",
      "source": [],
      "metadata": {
        "id": "HNF7aEm2uqx0"
      }
    },
    {
      "cell_type": "markdown",
      "source": [],
      "metadata": {
        "id": "aF53KKzhuojX"
      }
    },
    {
      "cell_type": "code",
      "source": [],
      "metadata": {
        "id": "FxYedXpsuT6S"
      },
      "execution_count": null,
      "outputs": []
    },
    {
      "cell_type": "markdown",
      "source": [],
      "metadata": {
        "id": "6Y71KELNuS6Q"
      }
    }
  ]
}