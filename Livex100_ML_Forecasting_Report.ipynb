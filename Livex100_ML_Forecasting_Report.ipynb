{
  "nbformat": 4,
  "nbformat_minor": 0,
  "metadata": {
    "colab": {
      "provenance": [],
      "authorship_tag": "ABX9TyNq8/VwqILbSSMMiXx6ZM5g",
      "include_colab_link": true
    },
    "kernelspec": {
      "name": "python3",
      "display_name": "Python 3"
    },
    "language_info": {
      "name": "python"
    }
  },
  "cells": [
    {
      "cell_type": "markdown",
      "metadata": {
        "id": "view-in-github",
        "colab_type": "text"
      },
      "source": [
        "<a href=\"https://colab.research.google.com/github/PaulRobertH/wine-ml-portfolio/blob/main/Livex100_ML_Forecasting_Report.ipynb\" target=\"_parent\"><img src=\"https://colab.research.google.com/assets/colab-badge.svg\" alt=\"Open In Colab\"/></a>"
      ]
    },
    {
      "cell_type": "code",
      "execution_count": 34,
      "metadata": {
        "colab": {
          "base_uri": "https://localhost:8080/",
          "height": 106
        },
        "id": "k7xsn5D0z-CU",
        "outputId": "cc0ac4df-615f-4eb3-e964-75d4db3fb062"
      },
      "outputs": [
        {
          "output_type": "error",
          "ename": "SyntaxError",
          "evalue": "invalid character '“' (U+201C) (ipython-input-34-3987858233.py, line 3)",
          "traceback": [
            "\u001b[0;36m  File \u001b[0;32m\"/tmp/ipython-input-34-3987858233.py\"\u001b[0;36m, line \u001b[0;32m3\u001b[0m\n\u001b[0;31m    > “Wine markets move with cycles, not with chaos.”\u001b[0m\n\u001b[0m      ^\u001b[0m\n\u001b[0;31mSyntaxError\u001b[0m\u001b[0;31m:\u001b[0m invalid character '“' (U+201C)\n"
          ]
        }
      ],
      "source": [
        "## ✅ Liv-ex 100 Machine Learning Forecasting Project\n",
        "\n",
        "> “Wine markets move with cycles, not with chaos.”\n",
        "\n",
        "We set out to systematically forecast the Liv-ex 100 wine index, using a blend of **Machine Learning, Gaussian Process regression, macroeconomic data, and technical signals** like peaks, troughs, and Fibonacci levels.\n",
        "\n",
        "The journey involved building ML pipelines, error analysis, and finally merging our findings into a custom forecasting chart. Below is the complete story — with all the experiments, insights, and visualizations.\n",
        "\n",
        "---\n",
        "\n",
        "## ✅ Machine Learning Pipeline\n",
        "\n",
        "We loaded historical macroeconomic data from 2003 onwards, including:\n",
        "\n",
        "- **Liv-ex indices** (Liv-ex 100, Burgundy 150, Bordeaux Legends, etc.)\n",
        "- FX rates (GBP/USD, GBP/EUR, Dollar Index DXY)\n",
        "- Commodities (Oil, Cocoa)\n",
        "- Equities (S&P 500 Futures, NASDAQ Futures)\n",
        "- Inflation (US CPI)\n",
        "\n",
        "We engineered features like:\n",
        "\n",
        "- 12M, 24M, and 60M forward returns\n",
        "- Momentum over various windows\n",
        "- Drawdown analysis\n",
        "- Volatility signals\n",
        "- Days since peaks and troughs\n",
        "\n",
        "We trained:\n",
        "\n",
        "- **Random Forest Regressor** (to check feature importances)\n",
        "- **Gaussian Process Regression** (for a fully probabilistic forecast)\n",
        "\n",
        "```\n",
        "✅ Random Forest RMSE: ~0.0655\n",
        "✅ Gaussian Process RMSE: ~0.0831\n",
        "```\n",
        "\n",
        "---\n",
        "\n",
        "## ✅ Feature Importance Analysis\n",
        "\n",
        "We ranked all inputs driving the model’s forecast power.\n",
        "\n",
        "![Feature Importance](https://github.com/PaulRobertH/wine-ml-portfolio/raw/main/notebooks/images/feature_importances.png)\n",
        "\n",
        "---\n",
        "\n",
        "## ✅ SHAP Explanation\n",
        "\n",
        "We used SHAP to understand how each feature influenced predictions.\n",
        "\n",
        "![SHAP Explanation](https://github.com/PaulRobertH/wine-ml-portfolio/raw/main/notebooks/images/livex100_gp_forecast.png)\n",
        "\n",
        "---\n",
        "\n",
        "## ✅ Initial GP Forecast\n",
        "\n",
        "The first GP forecast predicted significant volatility:\n",
        "\n",
        "![GP Forecast](https://github.com/PaulRobertH/wine-ml-portfolio/raw/main/notebooks/images/livex100_gp_forecast.png)\n",
        "\n",
        "This forecast showed a potential drop of ~10% before any recovery. However, the shape resembled **equity-style price collapses** rather than wine markets’ usual behavior.\n",
        "\n",
        "---\n",
        "\n",
        "## 🔍 Why Equity-Style Forecasts Don’t Fit Wine\n",
        "\n",
        "- Wine indices correct in long sideways moves — **not fast crashes**\n",
        "- Drawdowns are historically controlled\n",
        "- Liquidity is much lower than equity markets\n",
        "- Demand is global, price patterns differ\n",
        "- Prior big drawdowns were **-20% to -28% over 12–18 months**\n",
        "  Not sudden -50% collapses\n",
        "\n",
        "Thus, we refined our pipeline to avoid artificial over-fitted “equity-style crashes.”\n",
        "\n",
        "---\n",
        "\n",
        "## ✅ Multi-Horizon ML Forecast\n",
        "\n",
        "We then re-ran predictions over 12M, 24M, and 60M forward horizons:\n",
        "\n",
        "| Horizon | Predicted Return |\n",
        "| ------- | ---------------- |\n",
        "| 12M     | +7.39 %          |\n",
        "| 24M     | -2.80 %          |\n",
        "| 60M     | +29.46 %         |\n",
        "\n",
        "![Predicted Returns](https://github.com/PaulRobertH/wine-ml-portfolio/raw/main/notebooks/images/livex100_predicted_returns.png)\n",
        "\n",
        "These suggest:\n",
        "\n",
        "- Short-term uncertainty persists\n",
        "- Medium term caution\n",
        "- Long-term upside remains intact\n",
        "\n",
        "---\n",
        "\n",
        "## ✅ Cycles, Peaks, Troughs\n",
        "\n",
        "Next, we embedded technical analysis:\n",
        "\n",
        "- Peak/trough detection\n",
        "- Cycle phase separation\n",
        "- Fibonacci retracement\n",
        "\n",
        "Peaks and troughs help determine likely reversal zones:\n",
        "\n",
        "![Peak/Trough Chart](https://github.com/PaulRobertH/wine-ml-portfolio/raw/main/notebooks/images/livex100_peak_trough_chart.png)\n",
        "\n",
        "---\n",
        "\n",
        "## ✅ Refined Peak/Trough Detection\n",
        "\n",
        "After several iterations, we refined how peaks/troughs were identified:\n",
        "\n",
        "![Peak/Trough Custom Chart](https://github.com/PaulRobertH/wine-ml-portfolio/raw/main/notebooks/images/livex100_peak_trough_custom.png)\n",
        "\n",
        "---\n",
        "\n",
        "## ✅ Cycle Identification\n",
        "\n",
        "Using these turning points, we tagged bull and bear cycles:\n",
        "\n",
        "- **Green background:** bull market zones\n",
        "- **Red background:** bear phases\n",
        "\n",
        "Our cycles from 2003 to 2025:\n",
        "\n",
        "![Cycle Phases](https://github.com/PaulRobertH/wine-ml-portfolio/raw/main/notebooks/images/livex100_phase_chart.png)\n",
        "\n",
        "---\n",
        "\n",
        "## ✅ Merged Forecast + Technicals\n",
        "\n",
        "We then merged everything:\n",
        "\n",
        "- Liv-ex 100 price history\n",
        "- Peaks/troughs\n",
        "- Support lines\n",
        "- Fibonacci levels\n",
        "- ML forecast dots for future years\n",
        "- Shading for bull/bear cycles\n",
        "\n",
        "This final chart provides a holistic outlook:\n",
        "\n",
        "![Bull/Bear Forecast](https://github.com/PaulRobertH/wine-ml-portfolio/raw/main/notebooks/images/livex100_bullbear_forecast.png)\n",
        "\n",
        "---\n",
        "\n",
        "## 🔑 Findings\n",
        "\n",
        "✅ The Liv-ex 100 is **deeply cyclical.** Peaks and troughs repeat every 4-6 years.\n",
        "✅ The 2015 low sits near 236.71. The ATH (all-time high) is ~424.35.\n",
        "✅ Fibonacci 61.8% retracement from that low is ~308.39.\n",
        "✅ Liv-ex 100 behavior remains fundamentally different from equity markets — avoiding rapid collapse patterns.\n",
        "✅ Our final forecast suggests sideways consolidation into 2025 before renewed gains.\n",
        "\n",
        "By merging ML predictions with cycle theory and robust market history, we built a forecast grounded both in quantitative rigour and practical domain knowledge. The Liv-ex 100’s unique price dynamics require **bespoke modelling beyond generic equity techniques**.\n",
        "\n",
        "---\n",
        "\n",
        "## Images Used\n",
        "\n",
        "- ![Feature Importance](https://github.com/PaulRobertH/wine-ml-portfolio/raw/main/notebooks/images/feature_importances.png)\n",
        "- ![GP Forecast](https://github.com/PaulRobertH/wine-ml-portfolio/raw/main/notebooks/images/livex100_gp_forecast.png)\n",
        "- ![Predicted Returns](https://github.com/PaulRobertH/wine-ml-portfolio/raw/main/notebooks/images/livex100_predicted_returns.png)\n",
        "- ![Peak/Trough Chart](https://github.com/PaulRobertH/wine-ml-portfolio/raw/main/notebooks/images/livex100_peak_trough_chart.png)\n",
        "- ![Peak/Trough Custom Chart](https://github.com/PaulRobertH/wine-ml-portfolio/raw/main/notebooks/images/livex100_peak_trough_custom.png)\n",
        "- ![Cycle Phases](https://github.com/PaulRobertH/wine-ml-portfolio/raw/main/notebooks/images/livex100_phase_chart.png)\n",
        "- ![Bull/Bear Forecast](https://github.com/PaulRobertH/wine-ml-portfolio/raw/main/notebooks/images/livex100_bullbear_forecast.png)\n"
      ]
    },
    {
      "cell_type": "markdown",
      "source": [],
      "metadata": {
        "id": "y5lT14nJ6gtm"
      }
    },
    {
      "cell_type": "code",
      "source": [],
      "metadata": {
        "id": "ygv9SIgu6hD7"
      },
      "execution_count": null,
      "outputs": []
    },
    {
      "cell_type": "code",
      "source": [],
      "metadata": {
        "id": "hq2uRLnU6huR"
      },
      "execution_count": null,
      "outputs": []
    },
    {
      "cell_type": "code",
      "source": [],
      "metadata": {
        "id": "kcxC4TgJ4KoD"
      },
      "execution_count": null,
      "outputs": []
    },
    {
      "cell_type": "markdown",
      "source": [],
      "metadata": {
        "id": "gMYA998o2ni0"
      }
    },
    {
      "cell_type": "markdown",
      "source": [],
      "metadata": {
        "id": "XriM82Ud02ss"
      }
    },
    {
      "cell_type": "markdown",
      "source": [],
      "metadata": {
        "id": "97UQSft30h0T"
      }
    },
    {
      "cell_type": "markdown",
      "source": [],
      "metadata": {
        "id": "XrNofONj0He7"
      }
    },
    {
      "cell_type": "markdown",
      "source": [],
      "metadata": {
        "id": "M65eJ1ci0EgS"
      }
    },
    {
      "cell_type": "markdown",
      "source": [],
      "metadata": {
        "id": "rkf0AEZJ0L0j"
      }
    }
  ]
}