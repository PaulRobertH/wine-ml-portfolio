{
  "nbformat": 4,
  "nbformat_minor": 0,
  "metadata": {
    "colab": {
      "provenance": [],
      "authorship_tag": "ABX9TyPpvqafFLcTYWPB0fKb08E2",
      "include_colab_link": true
    },
    "kernelspec": {
      "name": "python3",
      "display_name": "Python 3"
    },
    "language_info": {
      "name": "python"
    }
  },
  "cells": [
    {
      "cell_type": "markdown",
      "metadata": {
        "id": "view-in-github",
        "colab_type": "text"
      },
      "source": [
        "<a href=\"https://colab.research.google.com/github/PaulRobertH/wine-ml-portfolio/blob/main/Livex100_ML_Forecasting_Report.ipynb\" target=\"_parent\"><img src=\"https://colab.research.google.com/assets/colab-badge.svg\" alt=\"Open In Colab\"/></a>"
      ]
    },
    {
      "cell_type": "markdown",
      "source": [],
      "metadata": {
        "id": "y5lT14nJ6gtm"
      }
    },
    {
      "cell_type": "code",
      "source": [
        "✅ FULL COLAB MARKDOWN CELL\n",
        "✅ Liv-ex 100 Machine Learning Forecasting Project\n",
        "“Wine markets move with cycles, not with chaos.”\n",
        "\n",
        "We set out to systematically forecast the Liv-ex 100 wine index, using a blend of Machine Learning, Gaussian Process regression, macroeconomic data, and technical signals like peaks, troughs, and Fibonacci levels.\n",
        "\n",
        "The journey involved building ML pipelines, error analysis, and finally merging our findings into a custom forecasting chart. Below is the complete story — with all the experiments, insights, and visualizations.\n",
        "\n",
        "✅ Machine Learning Pipeline\n",
        "We loaded historical macroeconomic data from 2003 onwards, including:\n",
        "\n",
        "Liv-ex indices (Liv-ex 100, Burgundy 150, Bordeaux Legends, etc.)\n",
        "\n",
        "FX rates (GBP/USD, GBP/EUR, Dollar Index DXY)\n",
        "\n",
        "Commodities (Oil, Cocoa)\n",
        "\n",
        "Equities (S&P 500 Futures, NASDAQ Futures)\n",
        "\n",
        "Inflation (US CPI)\n",
        "\n",
        "We engineered features like:\n",
        "\n",
        "12M, 24M, and 60M forward returns\n",
        "\n",
        "Momentum over various windows\n",
        "\n",
        "Drawdown analysis\n",
        "\n",
        "Volatility signals\n",
        "\n",
        "Days since peaks and troughs\n",
        "\n",
        "We trained:\n",
        "\n",
        "Random Forest Regressor (to check feature importances)\n",
        "\n",
        "Gaussian Process Regression (for a fully probabilistic forecast)\n",
        "\n",
        "yaml\n",
        "Copy\n",
        "Edit\n",
        "✅ Random Forest RMSE: ~0.0655\n",
        "✅ Gaussian Process RMSE: ~0.0831\n",
        "✅ Feature Importance Analysis\n",
        "We ranked all inputs driving the model’s forecast power.\n",
        "\n",
        "![](/content/drive/My Drive/ML-Portfolio/Images/feature_importances.png)\n",
        "\n",
        "✅ SHAP Explanation\n",
        "We used SHAP to understand how each feature influenced predictions.\n",
        "\n",
        "![](/content/drive/My Drive/ML-Portfolio/Images/livex100_gp_forecast.png)\n",
        "\n",
        "✅ Initial GP Forecast\n",
        "The first GP forecast predicted significant volatility:\n",
        "\n",
        "![](/content/drive/My Drive/ML-Portfolio/Images/livex100_gp_forecast.png)\n",
        "\n",
        "This forecast showed a potential drop of ~10% before any recovery. However, the shape resembled equity-style price collapses rather than wine markets’ usual behavior.\n",
        "\n",
        "🔍 Why Equity-Style Forecasts Don’t Fit Wine\n",
        "Wine indices correct in long sideways moves — not fast crashes\n",
        "\n",
        "Drawdowns are historically controlled\n",
        "\n",
        "Liquidity is much lower than equity markets\n",
        "\n",
        "Demand is global, price patterns differ\n",
        "\n",
        "Prior big drawdowns were -20% to -28% over 12–18 months\n",
        "Not sudden -50% collapses\n",
        "\n",
        "Thus, we refined our pipeline to avoid artificial over-fitted “equity-style crashes.”\n",
        "\n",
        "✅ Multi-Horizon ML Forecast\n",
        "We then re-ran predictions over 12M, 24M, and 60M forward horizons:\n",
        "\n",
        "Horizon\tPredicted Return\n",
        "12M\t+7.39 %\n",
        "24M\t-2.80 %\n",
        "60M\t+29.46 %\n",
        "\n",
        "![](/content/drive/My Drive/ML-Portfolio/Images/livex100_predicted_returns.png)\n",
        "\n",
        "These suggest:\n",
        "\n",
        "Short-term uncertainty persists\n",
        "\n",
        "Medium term caution\n",
        "\n",
        "Long-term upside remains intact\n",
        "\n",
        "✅ Cycles, Peaks, Troughs\n",
        "Next, we embedded technical analysis:\n",
        "\n",
        "Peak/trough detection\n",
        "\n",
        "Cycle phase separation\n",
        "\n",
        "Fibonacci retracement\n",
        "\n",
        "Peaks and troughs help determine likely reversal zones:\n",
        "\n",
        "![](/content/drive/My Drive/ML-Portfolio/Images/livex100_peak_trough_chart.png)\n",
        "\n",
        "✅ Refined Peak/Trough Detection\n",
        "After several iterations, we refined how peaks/troughs were identified:\n",
        "\n",
        "![](/content/drive/My Drive/ML-Portfolio/Images/livex100_peak_trough_custom.png)\n",
        "\n",
        "✅ Cycle Identification\n",
        "Using these turning points, we tagged bull and bear cycles:\n",
        "\n",
        "Green background: bull market zones\n",
        "\n",
        "Red background: bear phases\n",
        "\n",
        "Our cycles from 2003 to 2025:\n",
        "\n",
        "![](/content/drive/My Drive/ML-Portfolio/Images/livex100_phase_chart.png)\n",
        "\n",
        "✅ Merged Forecast + Technicals\n",
        "We then merged everything:\n",
        "\n",
        "Liv-ex 100 price history\n",
        "\n",
        "Peaks/troughs\n",
        "\n",
        "Support lines\n",
        "\n",
        "Fibonacci levels\n",
        "\n",
        "ML forecast dots for future years\n",
        "\n",
        "Shading for bull/bear cycles\n",
        "\n",
        "This final chart provides a holistic outlook:\n",
        "\n",
        "![](/content/drive/My Drive/ML-Portfolio/Images/livex100_bullbear_forecast.png)\n",
        "\n",
        "🔑 Findings\n",
        "✅ The Liv-ex 100 is deeply cyclical. Peaks and troughs repeat every 4-6 years.\n",
        "✅ The 2015 low sits near 236.71. The ATH (all-time high) is ~424.35.\n",
        "✅ Fibonacci 61.8% retracement from that low is ~308.39.\n",
        "✅ Liv-ex 100 behavior remains fundamentally different from equity markets — avoiding rapid collapse patterns.\n",
        "✅ Our final forecast suggests sideways consolidation into 2025 before renewed gains.\n",
        "\n",
        "By merging ML predictions with cycle theory and robust market history, we built a forecast grounded both in quantitative rigour and practical domain knowledge. The Liv-ex 100’s unique price dynamics require bespoke modelling beyond generic equity techniques.\n",
        "\n",
        "Images Used\n",
        "![](/content/drive/My Drive/ML-Portfolio/Images/feature_importances.png)\n",
        "\n",
        "![](/content/drive/My Drive/ML-Portfolio/Images/livex100_gp_forecast.png)\n",
        "\n",
        "![](/content/drive/My Drive/ML-Portfolio/Images/livex100_predicted_returns.png)\n",
        "\n",
        "![](/content/drive/My Drive/ML-Portfolio/Images/livex100_peak_trough_chart.png)\n",
        "\n",
        "![](/content/drive/My Drive/ML-Portfolio/Images/livex100_peak_trough_custom.png)\n",
        "\n",
        "![](/content/drive/My Drive/ML-Portfolio/Images/livex100_phase_chart.png)\n",
        "\n",
        "![](/content/drive/My Drive/ML-Portfolio/Images/livex100_bullbear_forecast.png)\n",
        "\n"
      ],
      "metadata": {
        "colab": {
          "base_uri": "https://localhost:8080/",
          "height": 106
        },
        "id": "hq2uRLnU6huR",
        "outputId": "4bca98cb-105d-44f6-cda4-9bbbea7de45d"
      },
      "execution_count": 46,
      "outputs": [
        {
          "output_type": "error",
          "ename": "SyntaxError",
          "evalue": "invalid character '✅' (U+2705) (ipython-input-46-1160889626.py, line 1)",
          "traceback": [
            "\u001b[0;36m  File \u001b[0;32m\"/tmp/ipython-input-46-1160889626.py\"\u001b[0;36m, line \u001b[0;32m1\u001b[0m\n\u001b[0;31m    ✅ FULL COLAB MARKDOWN CELL\u001b[0m\n\u001b[0m    ^\u001b[0m\n\u001b[0;31mSyntaxError\u001b[0m\u001b[0;31m:\u001b[0m invalid character '✅' (U+2705)\n"
          ]
        }
      ]
    },
    {
      "cell_type": "markdown",
      "source": [],
      "metadata": {
        "id": "9qcy7DsW9pES"
      }
    },
    {
      "cell_type": "markdown",
      "source": [],
      "metadata": {
        "id": "tE9TjXdY7ksy"
      }
    },
    {
      "cell_type": "code",
      "source": [],
      "metadata": {
        "id": "kcxC4TgJ4KoD"
      },
      "execution_count": null,
      "outputs": []
    },
    {
      "cell_type": "markdown",
      "source": [],
      "metadata": {
        "id": "gMYA998o2ni0"
      }
    },
    {
      "cell_type": "markdown",
      "source": [],
      "metadata": {
        "id": "XriM82Ud02ss"
      }
    },
    {
      "cell_type": "markdown",
      "source": [],
      "metadata": {
        "id": "97UQSft30h0T"
      }
    },
    {
      "cell_type": "markdown",
      "source": [],
      "metadata": {
        "id": "XrNofONj0He7"
      }
    },
    {
      "cell_type": "markdown",
      "source": [],
      "metadata": {
        "id": "M65eJ1ci0EgS"
      }
    },
    {
      "cell_type": "markdown",
      "source": [],
      "metadata": {
        "id": "rkf0AEZJ0L0j"
      }
    }
  ]
}