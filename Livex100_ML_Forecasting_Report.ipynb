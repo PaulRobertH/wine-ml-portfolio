{
  "nbformat": 4,
  "nbformat_minor": 0,
  "metadata": {
    "colab": {
      "provenance": [],
      "authorship_tag": "ABX9TyN57cLZcMy9Vir6VGw9pAbh",
      "include_colab_link": true
    },
    "kernelspec": {
      "name": "python3",
      "display_name": "Python 3"
    },
    "language_info": {
      "name": "python"
    }
  },
  "cells": [
    {
      "cell_type": "markdown",
      "metadata": {
        "id": "view-in-github",
        "colab_type": "text"
      },
      "source": [
        "<a href=\"https://colab.research.google.com/github/PaulRobertH/wine-ml-portfolio/blob/main/Livex100_ML_Forecasting_Report.ipynb\" target=\"_parent\"><img src=\"https://colab.research.google.com/assets/colab-badge.svg\" alt=\"Open In Colab\"/></a>"
      ]
    },
    {
      "cell_type": "markdown",
      "source": [],
      "metadata": {
        "id": "y5lT14nJ6gtm"
      }
    },
    {
      "cell_type": "markdown",
      "source": [
        "## Liv-ex 100 Machine Learning Forecasting Project\n",
        "\n",
        "> \"Wine markets move with cycles, not with chaos.\"\n",
        "\n",
        "We set out to systematically forecast the Liv-ex 100 wine index, using a blend of **Machine Learning, Gaussian Process regression, macroeconomic data, and technical signals** like peaks, troughs, and Fibonacci levels.\n",
        "\n",
        "---\n",
        "\n",
        "## Machine Learning Pipeline\n",
        "\n",
        "We loaded historical macroeconomic data from 2003 onwards, including:\n",
        "\n",
        "- Liv-ex indices (Liv-ex 100, Burgundy 150, Bordeaux Legends, etc.)\n",
        "- FX rates (GBP/USD, GBP/EUR, Dollar Index DXY)\n",
        "- Commodities (Oil, Cocoa)\n",
        "- Equities (S&P 500 Futures, NASDAQ Futures)\n",
        "- Inflation (US CPI)\n",
        "\n",
        "We engineered features like:\n",
        "\n",
        "- 12M, 24M, and 60M forward returns\n",
        "- Momentum over various windows\n",
        "- Drawdown analysis\n",
        "- Volatility signals\n",
        "- Days since peaks and troughs\n",
        "\n",
        "We trained:\n",
        "\n",
        "- Random Forest Regressor (to check feature importances)\n",
        "- Gaussian Process Regression (for a fully probabilistic forecast)\n",
        "\n"
      ],
      "metadata": {
        "id": "NRqFgXzM-2kj"
      }
    },
    {
      "cell_type": "markdown",
      "source": [
        "\n",
        "---\n",
        "\n",
        "## Why Equity-Style Forecasts Don’t Fit Wine\n",
        "\n",
        "- Wine indices correct in long sideways moves — not fast crashes\n",
        "- Drawdowns are historically controlled\n",
        "- Liquidity is much lower than equity markets\n",
        "- Demand is global, price patterns differ\n",
        "- Prior big drawdowns were -20% to -28% over 12–18 months  \n",
        "  Not sudden -50% collapses\n",
        "\n",
        "Thus, we refined our pipeline to avoid artificial over-fitted equity-style crashes.\n",
        "\n",
        "---\n",
        "\n",
        "## Multi-Horizon ML Forecast\n",
        "\n",
        "We then re-ran predictions over 12M, 24M, and 60M forward horizons:\n",
        "\n",
        "| Horizon | Predicted Return |\n",
        "| ------- | ---------------- |\n",
        "| 12M     | +7.39 %          |\n",
        "| 24M     | -2.80 %          |\n",
        "| 60M     | +29.46 %         |\n",
        "\n",
        "These suggest:\n",
        "\n",
        "- Short-term uncertainty persists\n",
        "- Medium term caution\n",
        "- Long-term upside remains intact\n",
        "\n",
        "---\n",
        "\n",
        "## Findings\n",
        "\n",
        "✅ The Liv-ex 100 is deeply cyclical. Peaks and troughs repeat every 4-6 years.  \n",
        "✅ The 2015 low sits near 236.71. The ATH (all-time high) is ~424.35.  \n",
        "✅ Fibonacci 61.8% retracement from that low is ~308.39.  \n",
        "✅ Liv-ex 100 behavior remains fundamentally different from equity markets — avoiding rapid collapse patterns.  \n",
        "✅ Our final forecast suggests sideways consolidation into 2025 before renewed gains.\n",
        "\n",
        "By merging ML predictions with cycle theory and robust market history, we built a forecast grounded both in quantitative rigour and practical domain knowledge. The Liv-ex 100’s unique price dynamics require bespoke modelling beyond generic equity techniques.\n"
      ],
      "metadata": {
        "id": "_KNDDqAT-5cp"
      }
    },
    {
      "cell_type": "markdown",
      "source": [
        "from IPython.display import Image, display\n",
        "\n",
        "# Change this if your images live in another folder\n",
        "base_path = \"/content/drive/My Drive/ML-Portfolio/Images/\"\n",
        "\n",
        "files = [\n",
        "    \"feature_importances.png\",\n",
        "    \"livex100_gp_forecast.png\",\n",
        "    \"livex100_predicted_returns.png\",\n",
        "    \"livex100_peak_trough_chart.png\",\n",
        "    \"livex100_peak_trough_custom.png\",\n",
        "    \"livex100_phase_chart.png\",\n",
        "    \"livex100_bullbear_forecast.png\"\n",
        "]\n",
        "\n",
        "for f in files:\n",
        "    print(f\"\\n### {f}\\n\")\n",
        "    display(Image(base_path + f))\n"
      ],
      "metadata": {
        "id": "CkxIsfhw-y_o"
      }
    },
    {
      "cell_type": "markdown",
      "source": [],
      "metadata": {
        "id": "9qcy7DsW9pES"
      }
    },
    {
      "cell_type": "markdown",
      "source": [],
      "metadata": {
        "id": "tE9TjXdY7ksy"
      }
    },
    {
      "cell_type": "code",
      "source": [],
      "metadata": {
        "id": "kcxC4TgJ4KoD"
      },
      "execution_count": null,
      "outputs": []
    },
    {
      "cell_type": "markdown",
      "source": [],
      "metadata": {
        "id": "gMYA998o2ni0"
      }
    },
    {
      "cell_type": "markdown",
      "source": [],
      "metadata": {
        "id": "XriM82Ud02ss"
      }
    },
    {
      "cell_type": "markdown",
      "source": [],
      "metadata": {
        "id": "97UQSft30h0T"
      }
    },
    {
      "cell_type": "markdown",
      "source": [],
      "metadata": {
        "id": "XrNofONj0He7"
      }
    },
    {
      "cell_type": "markdown",
      "source": [],
      "metadata": {
        "id": "M65eJ1ci0EgS"
      }
    },
    {
      "cell_type": "markdown",
      "source": [],
      "metadata": {
        "id": "rkf0AEZJ0L0j"
      }
    }
  ]
}