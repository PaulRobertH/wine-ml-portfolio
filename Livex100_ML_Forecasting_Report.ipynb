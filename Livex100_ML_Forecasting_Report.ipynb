{
  "nbformat": 4,
  "nbformat_minor": 0,
  "metadata": {
    "colab": {
      "provenance": [],
      "authorship_tag": "ABX9TyPyUfurphnRpAE5ZssnJWzd",
      "include_colab_link": true
    },
    "kernelspec": {
      "name": "python3",
      "display_name": "Python 3"
    },
    "language_info": {
      "name": "python"
    }
  },
  "cells": [
    {
      "cell_type": "markdown",
      "metadata": {
        "id": "view-in-github",
        "colab_type": "text"
      },
      "source": [
        "<a href=\"https://colab.research.google.com/github/PaulRobertH/wine-ml-portfolio/blob/main/Livex100_ML_Forecasting_Report.ipynb\" target=\"_parent\"><img src=\"https://colab.research.google.com/assets/colab-badge.svg\" alt=\"Open In Colab\"/></a>"
      ]
    },
    {
      "cell_type": "code",
      "execution_count": 29,
      "metadata": {
        "colab": {
          "base_uri": "https://localhost:8080/",
          "height": 106
        },
        "id": "k7xsn5D0z-CU",
        "outputId": "c0618041-34f7-47c8-b64f-aff1b00eeadd"
      },
      "outputs": [
        {
          "output_type": "error",
          "ename": "SyntaxError",
          "evalue": "invalid syntax (ipython-input-29-2834966212.py, line 5)",
          "traceback": [
            "\u001b[0;36m  File \u001b[0;32m\"/tmp/ipython-input-29-2834966212.py\"\u001b[0;36m, line \u001b[0;32m5\u001b[0m\n\u001b[0;31m    Our project set out to predict the **Liv-ex 100 Index** forward returns across multiple time horizons, applying modern machine learning, statistical analysis, and cycle theory.\u001b[0m\n\u001b[0m        ^\u001b[0m\n\u001b[0;31mSyntaxError\u001b[0m\u001b[0;31m:\u001b[0m invalid syntax\n"
          ]
        }
      ],
      "source": [
        "# Liv-ex 100 Forecasting and Machine Learning Analysis\n",
        "\n",
        "## Introduction\n",
        "\n",
        "Our project set out to predict the **Liv-ex 100 Index** forward returns across multiple time horizons, applying modern machine learning, statistical analysis, and cycle theory.\n",
        "\n",
        "Throughout the process, we:\n",
        "\n",
        "- Engineered a broad dataset covering Liv-ex sub-indices, macroeconomic variables (like CPI, FX rates, stock indices).\n",
        "- Ran **Random Forest Regression** and **Gaussian Process Regression (GPR)** models.\n",
        "- Performed feature importance and SHAP analysis.\n",
        "- Analyzed cyclical peaks, troughs, and major support/resistance zones.\n",
        "- Merged our ML projections into practical market cycle visuals.\n",
        "\n",
        "---\n",
        "\n",
        "## Data & Features\n",
        "\n",
        "We constructed a robust dataset with:\n",
        "\n",
        "- Monthly Liv-ex indices: `Livex_100`, Burgundy, Champagne, Italy, etc.\n",
        "- Macroeconomic series: US CPI, S&P 500 Futures, Dollar Index (DXY), Oil, FX pairs.\n",
        "- Rolling volatility and returns over 12, 24, and 60 months.\n",
        "\n",
        "We kept all data from **2003 onward**, ensuring relevance to modern market behavior.\n",
        "\n",
        "---\n",
        "\n",
        "## Machine Learning Modelling\n",
        "\n",
        "### Random Forest Regression\n",
        "\n",
        "We first trained a Random Forest Regressor to estimate 12-month forward returns. It provided robust results but with some variance.\n",
        "\n",
        "```\n",
        "Random Forest RMSE: ~0.0655\n",
        "```\n",
        "\n",
        "![Feature Importances](https://raw.githubusercontent.com/yourusername/yourrepo/main/images/livex100_feature_importances.png)\n",
        "\n",
        "*(Image: Feature importances from Random Forest. Shows Liv-ex 100, Champagne, Dollar Index, and macro features are significant predictors.)*\n",
        "\n",
        "---\n",
        "\n",
        "### SHAP Analysis\n",
        "\n",
        "To further understand drivers, we used SHAP to interpret feature contributions:\n",
        "\n",
        "![SHAP Plot](https://raw.githubusercontent.com/yourusername/yourrepo/main/images/livex100_shap_values.png)\n",
        "\n",
        "*SHAP summary indicates strong influence from Liv-ex 100 itself, US Interest Rates, S&P Futures, and FX pairs. Higher SHAP values reflect higher positive impact on future returns predictions.*\n",
        "\n",
        "---\n",
        "\n",
        "### Gaussian Process Regression (GPR)\n",
        "\n",
        "We implemented GPR for its flexibility and probabilistic confidence bands:\n",
        "\n",
        "```\n",
        "GP RMSE: ~0.0841\n",
        "```\n",
        "\n",
        "Below is the plot of **actual vs. predicted returns** from the GP model:\n",
        "\n",
        "![GP Prediction Plot](https://raw.githubusercontent.com/yourusername/yourrepo/main/images/livex100_gp_forecast.png)\n",
        "\n",
        "This visualization highlighted that our original model sometimes anticipated sudden market reversals resembling equity markets, predicting sharp downturns even when historically wine markets show smoother transitions.\n",
        "\n",
        "---\n",
        "\n",
        "## Early Findings\n",
        "\n",
        "Early runs of our GP model predicted a sharp additional ~10% drop in the Liv-ex 100. However, we recognized:\n",
        "\n",
        "- The Liv-ex 100 rarely moves with the abruptness seen in equity indices.\n",
        "- Past wine bear markets tend to bottom gradually and form new bull cycles.\n",
        "- Drawdowns historically reverse once sentiment and macro factors stabilize.\n",
        "\n",
        "Thus, we refined our pipeline to avoid artificial over-fitted \"equity-style crashes.\"\n",
        "\n",
        "\n",
        "---\n",
        "\n",
        "## Refinement Process\n",
        "\n",
        "To align ML outputs with **historical wine market behavior**, we introduced:\n",
        "\n",
        "- Moving averages (50, 100, 200 periods) for trend smoothing.\n",
        "- Peak & trough detection to anchor cycles.\n",
        "- Key support zones derived from **Fibonacci retracements** between the 2015 low and the ATH in 2022.\n",
        "\n",
        "---\n",
        "\n",
        "### Fibonacci Retracement\n",
        "\n",
        "We computed Fib levels:\n",
        "\n",
        "- 2015 low: ~236.71\n",
        "- ATH: ~424.35\n",
        "- Fib 61.8% level: ~308.39\n",
        "\n",
        "![Fib Levels](https://raw.githubusercontent.com/yourusername/yourrepo/main/images/livex100_fib_forecast.png)\n",
        "\n",
        "*This chart plots our Fib retracement alongside forecast points. Fib levels act as critical support, shaping market psychology and historical reversals.*\n",
        "\n",
        "---\n",
        "\n",
        "## Forecasted Forward Returns\n",
        "\n",
        "Our adjusted ML ensemble produced the following forecasts:\n",
        "\n",
        "markdown_text = \"\"\"\n",
        "| Horizon | Predicted Return |\n",
        "|---------|------------------:|\n",
        "| 12M     | +7.39 %           |\n",
        "| 24M     | -2.80 %           |\n",
        "| 60M     | +29.46 %          |\n",
        "\"\"\"\n",
        "print(markdown_text)\n",
        "\n",
        "\n",
        "\n",
        "Graphically:\n",
        "\n",
        "![Predicted Returns](https://raw.githubusercontent.com/yourusername/yourrepo/main/images/livex100_predicted_returns.png)\n",
        "\n",
        "---\n",
        "\n",
        "## Peak, Trough, & Cycle Visualization\n",
        "\n",
        "We finalized the analysis by overlaying ML forecasts onto a visual historical chart:\n",
        "\n",
        "![Full Forecast Chart](https://raw.githubusercontent.com/yourusername/yourrepo/main/images/livex100_bullbear_forecast.png)\n",
        "\n",
        "Key elements visible:\n",
        "\n",
        "- Liv-ex 100 Index\n",
        "- 50, 100, 200-period moving averages\n",
        "- Peaks & troughs markers\n",
        "- Bull/Bear cycle color shading\n",
        "- Support line at ~96.46\n",
        "- Fib 61.8% retracement at ~308.39\n",
        "- Forecasted levels for 2026, 2027, and 2029-2030\n",
        "\n",
        "---\n",
        "\n",
        "## Interpretation & Final Insights\n",
        "\n",
        "- Despite macro headwinds, our model predicts that the **next major bull market could emerge from mid-late 2025 into 2026**.\n",
        "- The 61.8% Fibonacci retracement remains a crucial technical support.\n",
        "- Liv-ex 100 behavior remains fundamentally different from equity markets -- avoiding rapid collapse patterns\n",
        "- Our forecast for the next **5-year horizon** suggests **potential cumulative gains near +30%**, consistent with historical cycle recoveries.\n",
        "\n",
        "---\n",
        "\n",
        "## Conclusion\n",
        "\n",
        "By merging ML predictions with cycle theory and robust market history, we built a forecast grounded both in quantitative rigour and practical domain knowledge. The Liv-ex 100 s unique price dynamics require **bespoke modelling beyond generic equity techniques**.\n",
        "\n",
        "---\n",
        "\n",
        "## Images\n",
        "\n",
        "Heres a consolidated list of visuals (replace URLs with your actual GitHub paths):\n",
        "\n",
        "- **Feature Importances:**\n",
        "  ![Feature Importances](https://raw.githubusercontent.com/yourusername/yourrepo/main/images/livex100_feature_importances.png)\n",
        "\n",
        "- **SHAP Plot:**\n",
        "  ![SHAP Plot](https://raw.githubusercontent.com/yourusername/yourrepo/main/images/livex100_shap_values.png)\n",
        "\n",
        "- **GP Forecast Plot:**\n",
        "  ![GP Prediction Plot](https://raw.githubusercontent.com/yourusername/yourrepo/main/images/livex100_gp_forecast.png)\n",
        "\n",
        "- **Predicted Returns Bar Chart:**\n",
        "  ![Predicted Returns](https://raw.githubusercontent.com/yourusername/yourrepo/main/images/livex100_predicted_returns.png)\n",
        "\n",
        "- **Fib Levels Plot:**\n",
        "  ![Fib Plot](https://raw.githubusercontent.com/yourusername/yourrepo/main/images/livex100_fib_forecast.png)\n",
        "\n",
        "- **Full Bull/Bear Forecast Chart:**\n",
        "  ![Bull/Bear Chart](https://raw.githubusercontent.com/yourusername/yourrepo/main/images/livex100_bullbear_forecast.png)\n",
        "\n",
        "---\n",
        "\n"
      ]
    },
    {
      "cell_type": "code",
      "source": [],
      "metadata": {
        "id": "kcxC4TgJ4KoD"
      },
      "execution_count": null,
      "outputs": []
    },
    {
      "cell_type": "markdown",
      "source": [],
      "metadata": {
        "id": "gMYA998o2ni0"
      }
    },
    {
      "cell_type": "markdown",
      "source": [],
      "metadata": {
        "id": "XriM82Ud02ss"
      }
    },
    {
      "cell_type": "markdown",
      "source": [],
      "metadata": {
        "id": "97UQSft30h0T"
      }
    },
    {
      "cell_type": "markdown",
      "source": [],
      "metadata": {
        "id": "XrNofONj0He7"
      }
    },
    {
      "cell_type": "markdown",
      "source": [],
      "metadata": {
        "id": "M65eJ1ci0EgS"
      }
    },
    {
      "cell_type": "markdown",
      "source": [],
      "metadata": {
        "id": "rkf0AEZJ0L0j"
      }
    }
  ]
}