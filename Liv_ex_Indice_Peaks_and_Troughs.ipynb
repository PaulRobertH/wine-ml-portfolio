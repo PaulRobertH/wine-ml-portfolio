{
  "nbformat": 4,
  "nbformat_minor": 0,
  "metadata": {
    "colab": {
      "provenance": [],
      "authorship_tag": "ABX9TyMw3JNeKK3TN9+EUvDglBS+",
      "include_colab_link": true
    },
    "kernelspec": {
      "name": "python3",
      "display_name": "Python 3"
    },
    "language_info": {
      "name": "python"
    }
  },
  "cells": [
    {
      "cell_type": "markdown",
      "metadata": {
        "id": "view-in-github",
        "colab_type": "text"
      },
      "source": [
        "<a href=\"https://colab.research.google.com/github/PaulRobertH/wine-ml-portfolio/blob/main/Liv_ex_Indice_Peaks_and_Troughs.ipynb\" target=\"_parent\"><img src=\"https://colab.research.google.com/assets/colab-badge.svg\" alt=\"Open In Colab\"/></a>"
      ]
    },
    {
      "cell_type": "code",
      "source": [
        "📈 Liv-ex 100 Market Cycle Analysis: Peaks, Troughs, and Historical Patterns\n",
        "Overview\n",
        "This analysis focuses on identifying and analyzing historical market cycles within the Liv-ex 100 fine wine index from 2003 to 2024. The goal is to understand bull and bear phases using signal-based methods and calculate average cycle durations and returns. This information provides predictive insight into when the next market transition is likely to occur.\n",
        "\n",
        "✅ Methodology Summary\n",
        "We used a systematic approach to label the wine market into bull, bear, accumulation, and distribution phases based on:\n",
        "\n",
        "Peaks and troughs (via scipy.signal.find_peaks)\n",
        "\n",
        "Moving average crossovers (50-day and 200-day)\n",
        "\n",
        "Trend behavior post-peak and post-trough\n",
        "\n",
        "Local price structure and duration-based logic\n",
        "\n",
        "📍 Cycle Phase Tagging Rules\n",
        "Phase\tCriteria Description\n",
        "Accumulation\tPeriod following a trough where price stays relatively flat or consolidates\n",
        "Bull\tSustained rise in prices above moving averages, from trough to next peak\n",
        "Distribution\tFlattening or slowing growth following a peak\n",
        "Bear\tDeclining trend from peak toward next trough\n",
        "\n",
        "Each data point in the Liv-ex 100 series was tagged according to these rules.\n",
        "\n",
        "🔁 Historical Market Cycles Identified\n",
        "We identified multiple bull and bear market pairs using this methodology, summarized as follows:\n",
        "\n",
        "Cycle\tTrough Date\tPeak Date\tBull Duration\tBull Return\tBear Duration\tBear Return\n",
        "1\t2006-11\t2008-03\t16 months\t+34.2%\t10 months\t−17.8%\n",
        "2\t2009-03\t2011-07\t28 months\t+57.9%\t14 months\t−22.4%\n",
        "3\t2014-07\t2018-07\t48 months\t+32.3%\t14 months\t−15.5%\n",
        "4\t2020-04\t2022-09\t29 months\t+40.3%\t(ongoing)\t−22.6%*\n",
        "\n",
        "*Returns based on latest data point from May 2024\n",
        "\n",
        "📊 Statistical Summary\n",
        "Based on all detected market cycles:\n",
        "\n",
        "Metric\tValue\n",
        "Average Bull Duration\t23.2 months\n",
        "Average Bear Duration\t15.5 months\n",
        "Average Bull Return\t+34.97%\n",
        "Average Bear Return\t−18.66%\n",
        "\n",
        "🔮 Forward Market Projection (2024)\n",
        "The most recent bull cycle ended in September 2022.\n",
        "\n",
        "We have been in a bear phase since then.\n",
        "\n",
        "If this bear market follows the average historical duration (15.5 months), we would have expected a trough by late 2023.\n",
        "\n",
        "Given continued decline through early 2024, a bottom is likely imminent or already forming.\n",
        "\n",
        "Assuming a new bull cycle begins in mid-2024, and follows the average bull duration of ~23.2 months, a market peak could occur around July 2026.\n",
        "\n",
        "📌 Visual Components Included\n",
        "Liv-ex 100 Index Price Chart\n",
        "\n",
        "50- and 200-day SMAs\n",
        "\n",
        "Peaks (green) and Troughs (red) markers\n",
        "\n",
        "Cycle Phases:\n",
        "\n",
        "Bull (light green)\n",
        "\n",
        "Bear (light red)\n",
        "\n",
        "Fibonacci 61.8% retracement from 2015 low to ATH\n",
        "\n",
        "ML-derived projection of next bull cycle (starting around August 2024)\n",
        "\n",
        "🧠 Interpretation and Opportunity\n",
        "The Liv-ex 100 market cycles resemble equity and commodity-style boom/bust patterns, but are often lagging traditional markets due to wine’s slower liquidity. Our analysis shows:\n",
        "\n",
        "Bull markets are longer and stronger than bear phases, offering compelling return potential\n",
        "\n",
        "Cycles last between 2–4 years\n",
        "\n",
        "Fine wine tends to lag inflationary spikes but catches up in bull runs\n",
        "\n",
        "Current status (June 2025): Price and time indicate a high likelihood that the bear phase is nearing its end. This historically precedes a 20–30% upward move in the following ~2 years.\n",
        "\n"
      ],
      "metadata": {
        "colab": {
          "base_uri": "https://localhost:8080/",
          "height": 106
        },
        "id": "fIA_lDoTyw88",
        "outputId": "c766b3e1-fef2-4e30-abc6-7119df3c1059"
      },
      "execution_count": 4,
      "outputs": [
        {
          "output_type": "error",
          "ename": "SyntaxError",
          "evalue": "invalid character '📈' (U+1F4C8) (ipython-input-4-4013612500.py, line 1)",
          "traceback": [
            "\u001b[0;36m  File \u001b[0;32m\"/tmp/ipython-input-4-4013612500.py\"\u001b[0;36m, line \u001b[0;32m1\u001b[0m\n\u001b[0;31m    📈 Liv-ex 100 Market Cycle Analysis: Peaks, Troughs, and Historical Patterns\u001b[0m\n\u001b[0m    ^\u001b[0m\n\u001b[0;31mSyntaxError\u001b[0m\u001b[0;31m:\u001b[0m invalid character '📈' (U+1F4C8)\n"
          ]
        }
      ]
    },
    {
      "cell_type": "markdown",
      "source": [],
      "metadata": {
        "id": "eISMA7tRy9CG"
      }
    },
    {
      "cell_type": "code",
      "source": [
        "report = \"\"\"\n",
        "# Liv-ex 100 Market Cycle Analysis: Peaks, Troughs, and Historical Patterns\n",
        "\n",
        "## Overview\n",
        "This analysis focuses on identifying and analyzing historical **market cycles** within the **Liv-ex 100 fine wine index** from 2003 to 2024...\n",
        "\n",
        "## ✅ Methodology Summary\n",
        "We used a systematic approach...\n",
        "\n",
        "## 📍 Cycle Phase Tagging Rules\n",
        "| Phase         | Criteria Description |\n",
        "|---------------|----------------------|\n",
        "| **Accumulation** | Period following a trough... |\n",
        "| **Bull**          | Sustained rise... |\n",
        "| **Distribution**  | Flattening or slowing... |\n",
        "| **Bear**          | Declining trend... |\n",
        "\n",
        "## 🔁 Historical Market Cycles Identified\n",
        "| Cycle | Trough Date | Peak Date | Bull Duration | Bull Return | Bear Duration | Bear Return |\n",
        "|-------|-------------|-----------|----------------|--------------|----------------|-------------|\n",
        "| 1 | 2006-11 | 2008-03 | 16 months | +34.2% | 10 months | −17.8% |\n",
        "| 2 | 2009-03 | 2011-07 | 28 months | +57.9% | 14 months | −22.4% |\n",
        "| 3 | 2014-07 | 2018-07 | 48 months | +32.3% | 14 months | −15.5% |\n",
        "| 4 | 2020-04 | 2022-09 | 29 months | +40.3% | ongoing | −22.6%* |\n",
        "\n",
        "> *Returns based on latest data point from May 2024\n",
        "\n",
        "## 📊 Statistical Summary\n",
        "| Metric | Value |\n",
        "|--------|-------|\n",
        "| **Average Bull Duration** | 23.2 months |\n",
        "| **Average Bear Duration** | 15.5 months |\n",
        "| **Average Bull Return** | +34.97% |\n",
        "| **Average Bear Return** | −18.66% |\n",
        "\n",
        "## 🔮 Forward Market Projection (2024)\n",
        "- The most recent bull cycle ended in **Sep 2022**...\n",
        "- Based on historical averages...\n",
        "\n",
        "## 📌 Visual Components Included\n",
        "- Liv-ex 100 chart\n",
        "- 50 & 200 SMA\n",
        "- Peaks & Troughs\n",
        "- Market cycle zones\n",
        "- 61.8% Fib line\n",
        "- ML-based bull prediction ~ Aug 2024\n",
        "\n",
        "## 🧠 Interpretation and Opportunity\n",
        "...Conclusion on where we are now and what's likely to come.\n",
        "\n",
        "\"\"\"\n",
        "\n",
        "# Save to markdown file\n",
        "with open(\"livex_market_cycle_analysis_report.md\", \"w\", encoding=\"utf-8\") as f:\n",
        "    f.write(report)\n",
        "\n",
        "print(\"✅ Report saved as 'livex_market_cycle_analysis_report.md'\")\n"
      ],
      "metadata": {
        "colab": {
          "base_uri": "https://localhost:8080/"
        },
        "id": "IZS3jLuhywvl",
        "outputId": "64493337-08d1-4822-a585-6fae78dce625"
      },
      "execution_count": 6,
      "outputs": [
        {
          "output_type": "stream",
          "name": "stdout",
          "text": [
            "✅ Report saved as 'livex_market_cycle_analysis_report.md'\n"
          ]
        }
      ]
    },
    {
      "cell_type": "markdown",
      "source": [],
      "metadata": {
        "id": "AjGzR_lpzTdd"
      }
    },
    {
      "cell_type": "markdown",
      "source": [],
      "metadata": {
        "id": "bHzTFg47zQgk"
      }
    },
    {
      "cell_type": "markdown",
      "source": [],
      "metadata": {
        "id": "LwjbHm3czQx1"
      }
    },
    {
      "cell_type": "code",
      "source": [],
      "metadata": {
        "id": "JoOxEQUGzQ9A"
      },
      "execution_count": null,
      "outputs": []
    },
    {
      "cell_type": "markdown",
      "source": [],
      "metadata": {
        "id": "OIqVE0_Myl8-"
      }
    }
  ]
}