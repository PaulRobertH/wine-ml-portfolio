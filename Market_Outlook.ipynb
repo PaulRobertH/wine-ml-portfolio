{
  "nbformat": 4,
  "nbformat_minor": 0,
  "metadata": {
    "colab": {
      "provenance": [],
      "authorship_tag": "ABX9TyMbWl7cEwH1BcGatlsrFxFe",
      "include_colab_link": true
    },
    "kernelspec": {
      "name": "python3",
      "display_name": "Python 3"
    },
    "language_info": {
      "name": "python"
    }
  },
  "cells": [
    {
      "cell_type": "markdown",
      "metadata": {
        "id": "view-in-github",
        "colab_type": "text"
      },
      "source": [
        "<a href=\"https://colab.research.google.com/github/PaulRobertH/wine-ml-portfolio/blob/main/Market_Outlook.ipynb\" target=\"_parent\"><img src=\"https://colab.research.google.com/assets/colab-badge.svg\" alt=\"Open In Colab\"/></a>"
      ]
    },
    {
      "cell_type": "code",
      "execution_count": 4,
      "metadata": {
        "colab": {
          "resources": {
            "http://localhost:8080/notebooks/images/livex100_peak_trough_chart.png": {
              "data": "",
              "ok": false,
              "headers": [
                [
                  "content-length",
                  "0"
                ]
              ],
              "status": 404,
              "status_text": ""
            },
            "http://localhost:8080/notebooks/images/livex100_peak_trough_custom_fib_chart.png": {
              "data": "",
              "ok": false,
              "headers": [
                [
                  "content-length",
                  "0"
                ]
              ],
              "status": 404,
              "status_text": ""
            },
            "http://localhost:8080/notebooks/images/livex100_cycle_prediction_chart.png": {
              "data": "",
              "ok": false,
              "headers": [
                [
                  "content-length",
                  "0"
                ]
              ],
              "status": 404,
              "status_text": ""
            },
            "http://localhost:8080/notebooks/images/livex100_phase_chart.png": {
              "data": "",
              "ok": false,
              "headers": [
                [
                  "content-length",
                  "0"
                ]
              ],
              "status": 404,
              "status_text": ""
            }
          },
          "base_uri": "https://localhost:8080/",
          "height": 1000
        },
        "id": "yhHBJAjJzRd3",
        "outputId": "115cc2f2-239c-45d3-aa1d-ac8f2b43e8b2"
      },
      "outputs": [
        {
          "output_type": "execute_result",
          "data": {
            "text/plain": [
              "<IPython.core.display.Markdown object>"
            ],
            "text/markdown": "\n# Market Outlook - June 2025\n\nThe current bear cycle began in September 2022 and has lasted well over 20 months, already exceeding the average historical duration. With the Liv-ex 100 approaching its Fibonacci 61.8% retracement level (measured from the 2015 low to the 2022 peak), historical precedent suggests the market is at or near a long-term trough.\n\nOur Machine Learning based forecasting model indicates the next bull phase is likely to initiate (this includes an expected plateau for 12 months which does not indicate a bull market but a flattening before a sign of strength) between mid- and late 2025, with a projected upswing of 20-30% over the following two years. This projection aligns with past post-bear recoveries.\n\n---\n\n## Strategic Opportunity\n\n- Fine wine shows clear cyclicality — bear phases are shorter and shallower than bull runs.\n- Historically, entering near the trough has delivered compounded returns of +30-50%.\n- We believe June 2025 represents a compelling inflection point, supported by macro and technical signals.\n- Smart capital may begin reallocation, with a view to holding through to mid-2026/7 and well beyond.\n\n---\n\n## Macroeconomic Reversion & Market Timing in Fine Wine\n\nLiv-ex 100 - Multi-Factor Signal Analysis (as of June 2025)\n\nThese charts collectively illustrate the macro-driven dynamics of the Liv-ex 100 fine wine index, providing strong evidence that fine wine exhibits reversion-to-mean behaviour against inflation, as well as multi-year directional cycles post-drawdown. The implications for long-term asset allocators are significant.\n\n---\n\n### 1. Wine - CPI Gap & ML Reversion Zones\n\nThis chart tracks the 12-month performance gap between fine wine and inflation (CPI), overlaid with a machine learning model estimating rebound probability.\n\n- Reversion Zones (green shading) show periods where the model signals a statistical likelihood of wine outperforming inflation in the following 12-24 months.\n- Historically, when wine underperforms CPI by more than -0.5 (blue line), this has led to strong subsequent bull cycles.\n- As of mid-2025, we are again in such a zone, with the model forecasting a rebound probability above 0.5, indicating favourable entry conditions.\n\nThis supports the broader thesis that fine wine mean-reverts after periods of real underperformance.\n\n---\n\n### 2. Liv-ex 100 Return vs Interest Rates\n\nHere we see the 12-month rolling return of the Liv-ex 100 (blue) plotted against the US interest rate (Fed Funds proxy) in orange:\n\n- There is a strong inverse relationship: wine returns generally weaken during tightening cycles (2006-08, 2018, and 2022-24).\n- The steepest interest rate hikes (2022-2023) correspond to the current drawdown phase.\n- However, with rates now peaking and starting to roll over, the macro headwind is easing — historically a precursor to sustained wine market recovery.\n\n---\n\n### 3. Liv-ex 100 Drawdown Chart\n\nThis panel shows maximum historical drawdowns from peak levels:\n\n- Drawdowns of -20% or more are rare but significant (2008, 2014, 2023).\n- Each large drawdown has preceded a multi-year recovery, reflecting wine's lagged but stable rebound tendency.\n- The current drawdown (~-23% from 2022 peak) is already comparable to the 2008 correction, implying limited further downside and strong asymmetry to the upside.\n\n---\n\n### 4. 12M Rolling Momentum (Bottom Panel)\n\nMomentum analysis shows that once wine begins a positive trend, it typically sustains for several years:\n\n- Positive momentum periods (e.g. 2006-08, 2009-11, 2020-22) correspond to clear bull runs.\n- Negative momentum reversals tend to cluster, but once a bottom forms, momentum builds quickly and persistently.\n\nAs of June 2025, momentum is flat but potentially bottoming, consistent with the reversion signals above.\n\n---\n\n## Strategic Interpretation\n\n- The current macro environment — marked by elevated CPI, peaking interest rates, and wine underperformance — closely mirrors past cycle troughs.\n- The reversion probability model, combined with drawdown magnitude and interest rate easing, strongly favours forward-looking allocations to fine wine.\n- Historically, entering at such inflection points has delivered 30-50% returns over 2-4 years, with relatively low volatility compared to equities or commodities. Once again, we expect a plateau of 12 months before a change of direction.\n\n---\n\n## Conclusion\n\nFine wine, as measured by the Liv-ex 100, is now exhibiting classic bottoming signals across macro, technical, and machine learning models. The case for accumulation ahead of the next cycle is statistically supported and time-tested.\n\n---\n\n## Liv-ex 100 Analysis Charts\n\nBelow are the charts referenced throughout this report. They illustrate the technical and macro signals shaping the market outlook.\n\n---\n\n### Liv-ex 100 Phase Chart\n\n![Liv-ex Phase Chart](notebooks/images/livex100_phase_chart.png)\n\n---\n\n### Liv-ex Peak Trough Custom Fibonacci Chart\n\n![Liv-ex Peak Trough Custom Fib Chart](notebooks/images/livex100_peak_trough_custom_fib_chart.png)\n\n---\n\n### Liv-ex Peak Trough Chart\n\n![Liv-ex Peak Trough Chart](notebooks/images/livex100_peak_trough_chart.png)\n\n---\n\n### Liv-ex Cycle Prediction Chart\n\n![Liv-ex Cycle Prediction Chart](notebooks/images/livex100_cycle_prediction_chart.png)\n"
          },
          "metadata": {},
          "execution_count": 4
        }
      ],
      "source": [
        "from IPython.display import Markdown\n",
        "\n",
        "md_text = \"\"\"\n",
        "# Market Outlook - June 2025\n",
        "\n",
        "The current bear cycle began in September 2022 and has lasted well over 20 months, already exceeding the average historical duration. With the Liv-ex 100 approaching its Fibonacci 61.8% retracement level (measured from the 2015 low to the 2022 peak), historical precedent suggests the market is at or near a long-term trough.\n",
        "\n",
        "Our Machine Learning based forecasting model indicates the next bull phase is likely to initiate (this includes an expected plateau for 12 months which does not indicate a bull market but a flattening before a sign of strength) between mid- and late 2025, with a projected upswing of 20-30% over the following two years. This projection aligns with past post-bear recoveries.\n",
        "\n",
        "---\n",
        "\n",
        "## Strategic Opportunity\n",
        "\n",
        "- Fine wine shows clear cyclicality — bear phases are shorter and shallower than bull runs.\n",
        "- Historically, entering near the trough has delivered compounded returns of +30-50%.\n",
        "- We believe June 2025 represents a compelling inflection point, supported by macro and technical signals.\n",
        "- Smart capital may begin reallocation, with a view to holding through to mid-2026/7 and well beyond.\n",
        "\n",
        "---\n",
        "\n",
        "## Macroeconomic Reversion & Market Timing in Fine Wine\n",
        "\n",
        "Liv-ex 100 - Multi-Factor Signal Analysis (as of June 2025)\n",
        "\n",
        "These charts collectively illustrate the macro-driven dynamics of the Liv-ex 100 fine wine index, providing strong evidence that fine wine exhibits reversion-to-mean behaviour against inflation, as well as multi-year directional cycles post-drawdown. The implications for long-term asset allocators are significant.\n",
        "\n",
        "---\n",
        "\n",
        "### 1. Wine - CPI Gap & ML Reversion Zones\n",
        "\n",
        "This chart tracks the 12-month performance gap between fine wine and inflation (CPI), overlaid with a machine learning model estimating rebound probability.\n",
        "\n",
        "- Reversion Zones (green shading) show periods where the model signals a statistical likelihood of wine outperforming inflation in the following 12-24 months.\n",
        "- Historically, when wine underperforms CPI by more than -0.5 (blue line), this has led to strong subsequent bull cycles.\n",
        "- As of mid-2025, we are again in such a zone, with the model forecasting a rebound probability above 0.5, indicating favourable entry conditions.\n",
        "\n",
        "This supports the broader thesis that fine wine mean-reverts after periods of real underperformance.\n",
        "\n",
        "---\n",
        "\n",
        "### 2. Liv-ex 100 Return vs Interest Rates\n",
        "\n",
        "Here we see the 12-month rolling return of the Liv-ex 100 (blue) plotted against the US interest rate (Fed Funds proxy) in orange:\n",
        "\n",
        "- There is a strong inverse relationship: wine returns generally weaken during tightening cycles (2006-08, 2018, and 2022-24).\n",
        "- The steepest interest rate hikes (2022-2023) correspond to the current drawdown phase.\n",
        "- However, with rates now peaking and starting to roll over, the macro headwind is easing — historically a precursor to sustained wine market recovery.\n",
        "\n",
        "---\n",
        "\n",
        "### 3. Liv-ex 100 Drawdown Chart\n",
        "\n",
        "This panel shows maximum historical drawdowns from peak levels:\n",
        "\n",
        "- Drawdowns of -20% or more are rare but significant (2008, 2014, 2023).\n",
        "- Each large drawdown has preceded a multi-year recovery, reflecting wine's lagged but stable rebound tendency.\n",
        "- The current drawdown (~-23% from 2022 peak) is already comparable to the 2008 correction, implying limited further downside and strong asymmetry to the upside.\n",
        "\n",
        "---\n",
        "\n",
        "### 4. 12M Rolling Momentum (Bottom Panel)\n",
        "\n",
        "Momentum analysis shows that once wine begins a positive trend, it typically sustains for several years:\n",
        "\n",
        "- Positive momentum periods (e.g. 2006-08, 2009-11, 2020-22) correspond to clear bull runs.\n",
        "- Negative momentum reversals tend to cluster, but once a bottom forms, momentum builds quickly and persistently.\n",
        "\n",
        "As of June 2025, momentum is flat but potentially bottoming, consistent with the reversion signals above.\n",
        "\n",
        "---\n",
        "\n",
        "## Strategic Interpretation\n",
        "\n",
        "- The current macro environment — marked by elevated CPI, peaking interest rates, and wine underperformance — closely mirrors past cycle troughs.\n",
        "- The reversion probability model, combined with drawdown magnitude and interest rate easing, strongly favours forward-looking allocations to fine wine.\n",
        "- Historically, entering at such inflection points has delivered 30-50% returns over 2-4 years, with relatively low volatility compared to equities or commodities. Once again, we expect a plateau of 12 months before a change of direction.\n",
        "\n",
        "---\n",
        "\n",
        "## Conclusion\n",
        "\n",
        "Fine wine, as measured by the Liv-ex 100, is now exhibiting classic bottoming signals across macro, technical, and machine learning models. The case for accumulation ahead of the next cycle is statistically supported and time-tested.\n",
        "\n",
        "---\n",
        "\n",
        "## Liv-ex 100 Analysis Charts\n",
        "\n",
        "Below are the charts referenced throughout this report. They illustrate the technical and macro signals shaping the market outlook.\n",
        "\n",
        "---\n",
        "\n",
        "### Liv-ex 100 Phase Chart\n",
        "\n",
        "![Liv-ex Phase Chart](notebooks/images/livex100_phase_chart.png)\n",
        "\n",
        "---\n",
        "\n",
        "### Liv-ex Peak Trough Custom Fibonacci Chart\n",
        "\n",
        "![Liv-ex Peak Trough Custom Fib Chart](notebooks/images/livex100_peak_trough_custom_fib_chart.png)\n",
        "\n",
        "---\n",
        "\n",
        "### Liv-ex Peak Trough Chart\n",
        "\n",
        "![Liv-ex Peak Trough Chart](notebooks/images/livex100_peak_trough_chart.png)\n",
        "\n",
        "---\n",
        "\n",
        "### Liv-ex Cycle Prediction Chart\n",
        "\n",
        "![Liv-ex Cycle Prediction Chart](notebooks/images/livex100_cycle_prediction_chart.png)\n",
        "\"\"\"\n",
        "\n",
        "Markdown(md_text)\n"
      ]
    },
    {
      "cell_type": "markdown",
      "source": [],
      "metadata": {
        "id": "-sBQcObRz3pe"
      }
    },
    {
      "cell_type": "markdown",
      "source": [],
      "metadata": {
        "id": "vi2xTGStzw4d"
      }
    },
    {
      "cell_type": "code",
      "source": [],
      "metadata": {
        "id": "oFW1ER-QzXlf"
      },
      "execution_count": null,
      "outputs": []
    },
    {
      "cell_type": "markdown",
      "source": [],
      "metadata": {
        "id": "FRgeFHQXzTFu"
      }
    }
  ]
}