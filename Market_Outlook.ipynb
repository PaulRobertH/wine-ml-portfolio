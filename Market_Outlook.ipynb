from IPython.display import Markdown

md_text = """
# Market Outlook – June 2025

The current bear cycle began in September 2022 and has lasted well over 20 months, already exceeding the average historical duration. With the Liv-ex 100 approaching its Fibonacci 61.8% retracement level (measured from the 2015 low to the 2022 peak), historical precedent suggests the market is at or near a long-term trough.

Our Machine Learning based forecasting model indicates the next bull phase is likely to initiate (this includes an expected plateau for 12 months which does not indicate a bull market but a flattening before a sign of strength) between mid- and late 2025, with a projected upswing of 20–30% over the following two years. This projection aligns with past post-bear recoveries.

---

## Strategic Opportunity

- Fine wine shows clear cyclicality—bear phases are shorter and shallower than bull runs.
- Historically, entering near the trough has delivered compounded returns of +30–50%.
- We believe June 2025 represents a compelling inflection point, supported by macro and technical signals.
- Smart capital may begin reallocation, with a view to holding through to mid-2026/7 and well beyond.

---

## Macroeconomic Reversion & Market Timing in Fine Wine

**Liv-ex 100 – Multi-Factor Signal Analysis (as of June 2025)**

These charts collectively illustrate the macro-driven dynamics of the Liv-ex 100 fine wine index, providing strong evidence that fine wine exhibits reversion-to-mean behaviour against inflation, as well as multi-year directional cycles post-drawdown. The implications for long-term asset allocators are significant.

---

### 1. Wine – CPI Gap & ML Reversion Zones

This chart tracks the 12-month performance gap between fine wine and inflation (CPI), overlaid with a machine learning model estimating rebound probability.

- Reversion Zones (green shading) show periods where the model signals a statistical likelihood of wine outperforming inflation in the following 12–24 months.
- Historically, when wine underperforms CPI by more than −0.5 (blue line), this has led to strong subsequent bull cycles.
- As of mid-2025, we are again in such a zone, with the model forecasting a rebound probability above 0.5, indicating favourable entry conditions.

This supports the broader thesis that fine wine mean-reverts after periods of real underperformance.

---

### 2. Liv-ex 100 Return vs Interest Rates

Here we see the 12-month rolling return of the Liv-ex 100 (blue) plotted against the US interest rate (Fed Funds proxy) in orange:

- There is a strong inverse relationship: wine returns generally weaken during tightening cycles (2006–08, 2018, and 2022–24).
- The steepest interest rate hikes (2022–2023) correspond to the current drawdown phase.
- However, with rates now peaking and starting to roll over, the macro headwind is easing—historically a precursor to sustained wine market recovery.

---

### 3. Liv-ex 100 Drawdown Chart

This panel shows maximum historical drawdowns from peak levels:

- Drawdowns of −20% or more are rare but significant (2008, 2014, 2023).
- Each large drawdown has preceded a multi-year recovery, reflecting wine’s lagged but stable rebound tendency.
- The current drawdown (~−23% from 2022 peak) is already comparable to the 2008 correction, implying limited further downside and strong asymmetry to the upside.

---

### 4. 12M Rolling Momentum (Bottom Panel)

Momentum analysis shows that once wine begins a positive trend, it typically sustains for several years:

- Positive momentum periods (e.g. 2006–08, 2009–11, 2020–22) correspond to clear bull runs.
- Negative momentum reversals tend to cluster, but once a bottom forms, momentum builds quickly and persistently.

As of June 2025, momentum is flat but potentially bottoming, consistent with the reversion signals above.

---

## Strategic Interpretation

- The current macro environment—marked by elevated CPI, peaking interest rates, and wine underperformance—closely mirrors past cycle troughs.
- The reversion probability model, combined with drawdown magnitude and interest rate easing, strongly favours forward-looking allocations to fine wine.
- Historically, entering at such inflection points has delivered 30–50% returns over 2–4 years, with relatively low volatility compared to equities or commodities. Once again, we expect a plateau of 12 months before a change of direction.

---

## Conclusion

Fine wine, as measured by the Liv-ex 100, is now exhibiting classic bottoming signals across macro, technical, and machine learning models. The case for accumulation ahead of the next cycle is statistically supported and time-tested.

---

## Liv-ex 100 Analysis Charts

Below are all the charts referenced in this report and additional insights from the analysis.

---

### Liv-ex 100 Phase Chart

![Liv-ex Phase Chart](notebooks/images/livex100_phase_chart.png)

---

### Liv-ex Peak Trough Custom Fibonacci Chart

![Liv-ex Peak Trough Custom Fib Chart](notebooks/images/livex100_peak_trough_custom_fib_chart.png)

---

### Liv-ex Peak Trough Chart

![Liv-ex Peak Trough Chart](notebooks/images/livex100_peak_trough_chart.png)

---

### Liv-ex Cycle Prediction Chart

![Liv-ex Cycle Prediction Chart](notebooks/images/livex100_cycle_prediction_chart.png)

---

### Rebased Index Comparison

![Rebased Index Comparison](notebooks/images/rebased_index_comparison.png)

---

### Rolling CPI Beta Chart

![Rolling CPI Beta Chart](notebooks/images/rolling_cpi_beta_chart.png)

---

### Liv-ex vs CPI Gap Chart

![Liv-ex vs CPI Gap Chart](notebooks/images/livex_vs_cpi_gap_chart.png)

---

### Liv-ex Macro Correlation Matrix

![Liv-ex Macro Correlation Matrix](notebooks/images/livex_macro_corr_matrix.png)

---

### Liv-ex vs Interest Rate Overlay

![Liv-ex vs Interest Rate Overlay](notebooks/images/livex_vs_interest_rate_overlay.png)

---

### Liv-ex Return by Rate Regime

![Liv-ex R]()
